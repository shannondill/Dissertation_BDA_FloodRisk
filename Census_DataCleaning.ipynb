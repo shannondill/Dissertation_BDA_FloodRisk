{
  "nbformat": 4,
  "nbformat_minor": 0,
  "metadata": {
    "colab": {
      "provenance": [],
      "authorship_tag": "ABX9TyPmeUrC687LM0DnJBu/BDpI",
      "include_colab_link": true
    },
    "kernelspec": {
      "name": "python3",
      "display_name": "Python 3"
    },
    "language_info": {
      "name": "python"
    }
  },
  "cells": [
    {
      "cell_type": "markdown",
      "metadata": {
        "id": "view-in-github",
        "colab_type": "text"
      },
      "source": [
        "<a href=\"https://colab.research.google.com/github/shannondill/Dissertation_BDA_FloodRisk/blob/main/Census_DataCleaning.ipynb\" target=\"_parent\"><img src=\"https://colab.research.google.com/assets/colab-badge.svg\" alt=\"Open In Colab\"/></a>"
      ]
    },
    {
      "cell_type": "markdown",
      "source": [
        "# Data Cleaning: census data 2016 - per census district\n",
        "(Government of Bermuda, 2024)"
      ],
      "metadata": {
        "id": "fdKDXuJUGOXf"
      }
    },
    {
      "cell_type": "code",
      "execution_count": 1,
      "metadata": {
        "colab": {
          "base_uri": "https://localhost:8080/"
        },
        "collapsed": true,
        "id": "zvBlldSGE01D",
        "outputId": "577ddfa5-1488-4958-8740-93f678612c81"
      },
      "outputs": [
        {
          "output_type": "stream",
          "name": "stdout",
          "text": [
            "Requirement already satisfied: pandas in /usr/local/lib/python3.11/dist-packages (2.2.2)\n",
            "Requirement already satisfied: numpy>=1.23.2 in /usr/local/lib/python3.11/dist-packages (from pandas) (2.0.2)\n",
            "Requirement already satisfied: python-dateutil>=2.8.2 in /usr/local/lib/python3.11/dist-packages (from pandas) (2.9.0.post0)\n",
            "Requirement already satisfied: pytz>=2020.1 in /usr/local/lib/python3.11/dist-packages (from pandas) (2025.2)\n",
            "Requirement already satisfied: tzdata>=2022.7 in /usr/local/lib/python3.11/dist-packages (from pandas) (2025.2)\n",
            "Requirement already satisfied: six>=1.5 in /usr/local/lib/python3.11/dist-packages (from python-dateutil>=2.8.2->pandas) (1.17.0)\n"
          ]
        }
      ],
      "source": [
        "pip install pandas"
      ]
    },
    {
      "cell_type": "code",
      "source": [
        "import pandas as pd\n",
        "import csv"
      ],
      "metadata": {
        "id": "FG_pTNaLE8xR"
      },
      "execution_count": 2,
      "outputs": []
    },
    {
      "cell_type": "markdown",
      "source": [
        "### Personal Gross Income"
      ],
      "metadata": {
        "id": "5CSB2h4HFMfn"
      }
    },
    {
      "cell_type": "code",
      "source": [
        "# Import income dataset\n",
        "personal_income = pd.read_csv('/content/cleaned_CensusDistricts_annualincome_2016.csv')\n",
        "personal_income.head()"
      ],
      "metadata": {
        "id": "roSPTs69FSBT"
      },
      "execution_count": null,
      "outputs": []
    },
    {
      "cell_type": "code",
      "source": [
        "# Remove '$' from 'Median' column\n",
        "personal_income['Median'] = personal_income['Median'].str[1:]\n",
        "personal_income['Median.1'] = personal_income['Median.1'].str[1:]\n",
        "personal_income['Median.2'] = personal_income['Median.2'].str[1:]\n",
        "personal_income.head()"
      ],
      "metadata": {
        "id": "-3Fs7Jd0FUIc"
      },
      "execution_count": null,
      "outputs": []
    },
    {
      "cell_type": "code",
      "source": [
        "# Download as csv file\n",
        "personal_income.to_csv('cleaned_CensusDistricts_personalincome_2016.csv')"
      ],
      "metadata": {
        "id": "2QlqmtiaFWgL"
      },
      "execution_count": null,
      "outputs": []
    },
    {
      "cell_type": "markdown",
      "source": [
        "### Age"
      ],
      "metadata": {
        "id": "ULo2qjsNFiO7"
      }
    },
    {
      "cell_type": "code",
      "source": [
        "# Import age dataset\n",
        "# Remove blank lines\n",
        "age = pd.read_csv('/content/CensusDistricts_age2016CensusTable3.4.csv', skiprows=3).dropna()\n",
        "age.head()"
      ],
      "metadata": {
        "id": "9z4gov7_Fhwq"
      },
      "execution_count": null,
      "outputs": []
    },
    {
      "cell_type": "code",
      "source": [
        "# Download as a csv file\n",
        "age.to_csv('FINALCensusDistricts_Age2016Table3.4.csv')"
      ],
      "metadata": {
        "id": "_t2wDs4NFsYZ"
      },
      "execution_count": null,
      "outputs": []
    },
    {
      "cell_type": "markdown",
      "source": [
        "### Education (Government of Bermuda, 2024)"
      ],
      "metadata": {
        "id": "8IOZm2kyGGkH"
      }
    },
    {
      "cell_type": "code",
      "source": [],
      "metadata": {
        "id": "vhOLev4YGLTu"
      },
      "execution_count": null,
      "outputs": []
    }
  ]
}